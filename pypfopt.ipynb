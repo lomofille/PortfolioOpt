{
 "cells": [
  {
   "cell_type": "code",
   "execution_count": null,
   "metadata": {},
   "outputs": [],
   "source": [
    "!pip install pyportfolioopt --quiet\n",
    "import pandas as pd\n",
    "import numpy as np\n",
    "import matplotlib.pyplot as plt\n",
    "from datetime import datetime\n",
    "from plotly.subplots import make_subplots\n",
    "import plotly.graph_objects as go\n",
    "%matplotlib inline\n",
    "\n",
    "from pypfopt import EfficientFrontier\n",
    "from pypfopt import risk_models\n",
    "from pypfopt import expected_returns\n",
    "from pypfopt import plotting\n"
   ]
  },
  {
   "cell_type": "code",
   "execution_count": null,
   "metadata": {},
   "outputs": [],
   "source": [
    "# Read monthly data \n",
    "dfAll = pd.read_csv('AllMonthlyData.csv', parse_dates = [\"Date\"], index_col = \"Date\", dtype=np.float64)\n",
    "dfAll.fillna(method='ffill', inplace=True)\n",
    "dfAll.head()"
   ]
  },
  {
   "cell_type": "code",
   "execution_count": null,
   "metadata": {
    "scrolled": false
   },
   "outputs": [],
   "source": [
    "# Calculate exponential moving average mean historical return \n",
    "mu = expected_returns.ema_historical_return(dfAll, frequency=250, span=180, log_returns=True)\n",
    "\n",
    "# Covariance matrix \n",
    "S = risk_models.exp_cov(dfAll, returns_data=False, span=180, frequency=250, log_returns=True)\n",
    "\n",
    "# Correlation matrix\n",
    "R = risk_models.cov_to_corr(S)\n",
    "print('Correlation Matrix:','\\r\\n',R)\n",
    "\n",
    "fig, ax = plt.subplots(figsize=(10,15))\n",
    "\n",
    "ef = EfficientFrontier(mu, S, weight_bounds=(0,1))\n",
    "plotting.plot_efficient_frontier(ef, ef_param='return', show_assets=False)\n",
    "\n",
    "ef_minvol=EfficientFrontier(mu, S, weight_bounds=(0,1))\n",
    "ef_maxS =EfficientFrontier(mu,S,weight_bounds=(0,1))\n",
    "\n",
    "minret = ef_minvol.min_volatility()\n",
    "maxS = ef_maxS.max_sharpe()\n",
    "\n",
    "ret_tangent, std_tangent, slp = ef.portfolio_performance(verbose=False, risk_free_rate=0.0153)\n",
    "y_vol, x_vol,slope = ef_minvol.portfolio_performance(verbose=False,risk_free_rate=0.0153)\n",
    "\n",
    "# Generate random portfolios\n",
    "n_samples = 10000\n",
    "w = np.random.dirichlet(np.ones(len(mu)), n_samples)\n",
    "rets = w.dot(mu)\n",
    "stds = np.sqrt(np.diag(w @ S @ w.T))\n",
    "sharpes = rets / stds\n",
    "\n",
    "# Output\n",
    "a = ax.scatter(stds, rets, marker=\".\", s=1, c=sharpes, cmap='Wistia')\n",
    "b = ax.scatter(std_tangent, ret_tangent, marker=\".\", s=200, c=\"red\", label=\"Max Sharpe\")\n",
    "c = ax.scatter(x_vol, y_vol, marker=\"^\",s=150, c='blue', label='Min Vol')\n",
    "ax.set_title(\"Efficient Frontier with random portfolios\")\n",
    "ax.legend()\n",
    "plt.tight_layout()\n",
    "plt.colorbar(a)\n",
    "\n",
    "print('')\n",
    "print('Min Volatility Weights:',ef_minvol.clean_weights())\n",
    "print('')\n",
    "print('Max Sharpe Weights:', ef.clean_weights())\n",
    "print('')"
   ]
  },
  {
   "cell_type": "code",
   "execution_count": null,
   "metadata": {},
   "outputs": [],
   "source": []
  }
 ],
 "metadata": {
  "kernelspec": {
   "display_name": "Python 3",
   "language": "python",
   "name": "python3"
  },
  "language_info": {
   "codemirror_mode": {
    "name": "ipython",
    "version": 3
   },
   "file_extension": ".py",
   "mimetype": "text/x-python",
   "name": "python",
   "nbconvert_exporter": "python",
   "pygments_lexer": "ipython3",
   "version": "3.8.5"
  }
 },
 "nbformat": 4,
 "nbformat_minor": 4
}
